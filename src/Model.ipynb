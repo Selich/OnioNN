{
 "cells": [
  {
   "cell_type": "code",
   "execution_count": 2,
   "metadata": {},
   "outputs": [
    {
     "name": "stderr",
     "output_type": "stream",
     "text": [
      "Using TensorFlow backend.\n"
     ]
    },
    {
     "data": {
      "text/plain": [
       "(-1.1057178010821211,\n",
       " 1.1094151787007132,\n",
       " -1.1120352255976402,\n",
       " 1.10057310598084)"
      ]
     },
     "execution_count": 2,
     "metadata": {},
     "output_type": "execute_result"
    },
    {
     "data": {
      "image/png": "[encoded data removed]",
      "text/plain": [
       "<Figure size 432x288 with 1 Axes>"
      ]
     },
     "metadata": {},
     "output_type": "display_data"
    }
   ],
   "source": [
    "import os\n",
    "from scipy.io import wavfile\n",
    "import pandas as pd\n",
    "import matplotlib.pyplot as plt\n",
    "import numpy as np\n",
    "\n",
    "\n",
    "from keras.layers import Conv2D, MaxPool2D, Flatten, LSTM\n",
    "from keras.layers import Dropout, Dense, TimeDistributed\n",
    "from keras.models import Sequential\n",
    "from keras.utils import to_categorical\n",
    "from sklearn.utils.class_weight import compute_class_weight\n",
    "from config import Config\n",
    "from tqdm import tqdm\n",
    "from python_speech_features import mfcc\n",
    "\n",
    "import pickle\n",
    "from keras.callbacks import ModelCheckpoint\n",
    "\n",
    "\n",
    "df = pd.read_csv('../data/meta/small_train_labels.csv')\n",
    "df.set_index('fname', inplace=True)\n",
    "\n",
    "for f in df.index:\n",
    "    rate, signal = wavfile.read('../data/clean/' + f)\n",
    "    df.at[f, 'length'] = signal.shape[0] / rate\n",
    "    \n",
    "classes = list(np.unique(df.label))\n",
    "class_dist = df.groupby(['label'])['length'].mean()\n",
    "\n",
    "n_samples = 2 * int(df['length'].sum() / 0.1)\n",
    "prob_dist = class_dist / class_dist.sum()\n",
    "choices = np.random.choice(class_dist.index, p=prob_dist)\n",
    "\n",
    "fig, ax = plt.subplots()\n",
    "ax.pie(class_dist, labels=class_dist.index, shadow=False, startangle=90)\n",
    "ax.axis('equal')"
   ]
  },
  {
   "cell_type": "code",
   "execution_count": 3,
   "metadata": {},
   "outputs": [],
   "source": [
    "def get_conv_model():\n",
    "    model = Sequential()\n",
    "    model.add(Conv2D(16, (3, 3), activation='relu', strides=(1, 1), padding='same', input_shape=input_shape))\n",
    "    model.add(Conv2D(32, (3, 3), activation='relu', strides=(1, 1), padding='same', input_shape=input_shape))\n",
    "    model.add(Conv2D(64, (3, 3), activation='relu', strides=(1, 1), padding='same', input_shape=input_shape))\n",
    "    model.add(Conv2D(128, (3, 3), activation='relu', strides=(1, 1), padding='same', input_shape=input_shape))\n",
    "    \n",
    "    model.add(MaxPool2D((2, 2)))\n",
    "    model.add(Dropout(0,5))\n",
    "    model.add(Flatten())\n",
    "    model.add(Dense(128, activation='relu'))\n",
    "    model.add(Dense(64, activation='relu'))\n",
    "    model.add(Dense(10, activation='softmax'))\n",
    "    model.summary()\n",
    "    model.compile(loss='categorical_crossentropy', optimizer='adam', metrics=['acc'])\n",
    "    return model\n",
    "\n",
    "def get_recurrent_model():\n",
    "    model = Sequential()\n",
    "    model.add(LSTM(128, return_sequences=True, input_shape=input_shape))\n",
    "    model.add(LSTM(128, return_sequences=True))\n",
    "    model.add(Dropout(0.5))\n",
    "    model.add(TimeDistributed(Dense(64, activation='relu')))\n",
    "    model.add(TimeDistributed(Dense(32, activation='relu')))\n",
    "    model.add(TimeDistributed(Dense(16, activation='relu')))\n",
    "    model.add(TimeDistributed(Dense(8, activation='relu')))\n",
    "    model.add(Flatten())\n",
    "    model.add(Dense(10, activation='softmax'))\n",
    "    model.summary()\n",
    "    model.compile(loss='categorical_crossentropy', optimizer='adam', metrics=['acc'])\n",
    "    return model"
   ]
  },
  {
   "cell_type": "code",
   "execution_count": 4,
   "metadata": {},
   "outputs": [],
   "source": [
    "def check_data():\n",
    "    if os.path.isfile(config.p_path):\n",
    "        print('Loading existing data for {} model'.format(config.model))\n",
    "        with open(config.p_path, 'rb') as handle:\n",
    "            tmp = pickle.load(handle)\n",
    "            return tmp\n",
    "    else:\n",
    "        return None"
   ]
  },
  {
   "cell_type": "code",
   "execution_count": 5,
   "metadata": {},
   "outputs": [],
   "source": [
    "def build_rand_feat():\n",
    "    tmp = check_data()\n",
    "    if tmp:\n",
    "        return tmp.data[0], tmp.data[1]\n",
    "    X = []\n",
    "    y = []\n",
    "    _min, _max = float('inf'), -float('inf')\n",
    "    for _ in tqdm(range(n_samples)):\n",
    "        rand_class = np.random.choice(class_dist.index, p = prob_dist)\n",
    "        file = np.random.choice(df[df.label == rand_class].index)\n",
    "        rate, wav = wavfile.read('../data/clean/' + file)\n",
    "        label = df.at[file, 'label']\n",
    "        rand_index = np.random.randint(0, wav.shape[0] - config.step)\n",
    "        sample = wav[rand_index:rand_index+config.step]\n",
    "        X_sample = mfcc(sample, rate,\n",
    "                       numcep=config.nfeat, nfilt=config.nfilt, nfft=config.nfft).T\n",
    "        _min = min(np.amin(X_sample), _min)\n",
    "        _max = max(np.amax(X_sample), _max)\n",
    "        # X.append(X_sample if config.mode == 'conv' else X_sample.T)\n",
    "        X.append(X_sample)\n",
    "        y.append(classes.index(label))\n",
    "    config.min = _min\n",
    "    config.max = _max\n",
    "        \n",
    "    X, y = np.array(X), np.array(y)\n",
    "    X = (X - _min) / (_max - _min)\n",
    "        \n",
    "        \n",
    "    if config.mode == 'conv':\n",
    "        X = X.reshape(X.shape[0], X.shape[1], X.shape[2], 1)\n",
    "    elif config.mode == 'time':\n",
    "        X = X.reshape(X.shape[0], X.shape[1], X.shape[2])\n",
    "            \n",
    "    y = to_categorical(y, num_classes=10)\n",
    "    config.data = (X, y)\n",
    "\n",
    "    with open(config.p_path, 'wb') as handle:\n",
    "        # protocol 2 to be backcomp with python 2.x\n",
    "        pickle.dump(config, handle, protocol=2)\n",
    "    return X, y"
   ]
  },
  {
   "cell_type": "code",
   "execution_count": null,
   "metadata": {},
   "outputs": [
    {
     "name": "stderr",
     "output_type": "stream",
     "text": [
      "100%|███████████████████████████████████████████████████████████████████████████| 26410/26410 [00:54<00:00, 484.29it/s]\n"
     ]
    },
    {
     "name": "stdout",
     "output_type": "stream",
     "text": [
      "Model: \"sequential_2\"\n",
      "_________________________________________________________________\n",
      "Layer (type)                 Output Shape              Param #   \n",
      "=================================================================\n",
      "lstm_1 (LSTM)                (None, 13, 128)           70656     \n",
      "_________________________________________________________________\n",
      "lstm_2 (LSTM)                (None, 13, 128)           131584    \n",
      "_________________________________________________________________\n",
      "dropout_2 (Dropout)          (None, 13, 128)           0         \n",
      "_________________________________________________________________\n",
      "time_distributed_1 (TimeDist (None, 13, 64)            8256      \n",
      "_________________________________________________________________\n",
      "time_distributed_2 (TimeDist (None, 13, 32)            2080      \n",
      "_________________________________________________________________\n",
      "time_distributed_3 (TimeDist (None, 13, 16)            528       \n",
      "_________________________________________________________________\n",
      "time_distributed_4 (TimeDist (None, 13, 8)             136       \n",
      "_________________________________________________________________\n",
      "flatten_2 (Flatten)          (None, 104)               0         \n",
      "_________________________________________________________________\n",
      "dense_8 (Dense)              (None, 10)                1050      \n",
      "=================================================================\n",
      "Total params: 214,290\n",
      "Trainable params: 214,290\n",
      "Non-trainable params: 0\n",
      "_________________________________________________________________\n"
     ]
    },
    {
     "name": "stderr",
     "output_type": "stream",
     "text": [
      "C:\\Users\\selic\\miniconda3\\envs\\onioEnv\\lib\\site-packages\\sklearn\\utils\\validation.py:71: FutureWarning: Pass classes=[0 1 2 3 4 5 6 7 8 9], y=[4 2 5 ... 2 2 7] as keyword args. From version 0.25 passing these as positional arguments will result in an error\n",
      "  FutureWarning)\n"
     ]
    },
    {
     "name": "stdout",
     "output_type": "stream",
     "text": [
      "Train on 23769 samples, validate on 2641 samples\n",
      "Epoch 1/10\n",
      "23769/23769 [==============================] - 18s 771us/step - loss: 1.9432 - acc: 0.2623 - val_loss: 1.5976 - val_acc: 0.4192\n",
      "\n",
      "Epoch 00001: val_acc improved from -inf to 0.41916, saving model to ../models\\time.model\n",
      "Epoch 2/10\n",
      "23769/23769 [==============================] - 18s 738us/step - loss: 1.4785 - acc: 0.4590 - val_loss: 1.3489 - val_acc: 0.5354\n",
      "\n",
      "Epoch 00002: val_acc improved from 0.41916 to 0.53540, saving model to ../models\\time.model\n",
      "Epoch 3/10\n",
      "23769/23769 [==============================] - 18s 755us/step - loss: 1.2435 - acc: 0.5551 - val_loss: 1.1467 - val_acc: 0.6017\n",
      "\n",
      "Epoch 00003: val_acc improved from 0.53540 to 0.60167, saving model to ../models\\time.model\n",
      "Epoch 4/10\n",
      "23769/23769 [==============================] - 15s 646us/step - loss: 1.0772 - acc: 0.6169 - val_loss: 1.0519 - val_acc: 0.6270\n",
      "\n",
      "Epoch 00004: val_acc improved from 0.60167 to 0.62704, saving model to ../models\\time.model\n",
      "Epoch 5/10\n",
      "23769/23769 [==============================] - 15s 637us/step - loss: 0.9324 - acc: 0.6727 - val_loss: 0.8480 - val_acc: 0.7111\n",
      "\n",
      "Epoch 00005: val_acc improved from 0.62704 to 0.71109, saving model to ../models\\time.model\n",
      "Epoch 6/10\n",
      "23769/23769 [==============================] - 17s 718us/step - loss: 0.7950 - acc: 0.7270 - val_loss: 0.7016 - val_acc: 0.7550\n",
      "\n",
      "Epoch 00006: val_acc improved from 0.71109 to 0.75502, saving model to ../models\\time.model\n",
      "Epoch 7/10\n",
      "23769/23769 [==============================] - 18s 754us/step - loss: 0.7037 - acc: 0.7625 - val_loss: 0.7045 - val_acc: 0.7607\n",
      "\n",
      "Epoch 00007: val_acc improved from 0.75502 to 0.76070, saving model to ../models\\time.model\n",
      "Epoch 8/10\n",
      "23769/23769 [==============================] - 16s 689us/step - loss: 0.6468 - acc: 0.7823 - val_loss: 0.5576 - val_acc: 0.8148\n",
      "\n",
      "Epoch 00008: val_acc improved from 0.76070 to 0.81484, saving model to ../models\\time.model\n",
      "Epoch 9/10\n",
      "23769/23769 [==============================] - 15s 619us/step - loss: 0.5697 - acc: 0.8072 - val_loss: 0.4697 - val_acc: 0.8410\n",
      "\n",
      "Epoch 00009: val_acc improved from 0.81484 to 0.84097, saving model to ../models\\time.model\n",
      "Epoch 10/10\n",
      "22272/23769 [===========================>..] - ETA: 0s - loss: 0.5096 - acc: 0.8282"
     ]
    }
   ],
   "source": [
    "config = Config(mode='time')\n",
    "\n",
    "if config.mode == 'conv':\n",
    "    X, y = build_rand_feat()\n",
    "    y_flat = np.argmax(y, axis=1)\n",
    "    input_shape = (X.shape[1], X.shape[2], 1)\n",
    "    model = get_conv_model()\n",
    "    \n",
    "elif config.mode == 'time':\n",
    "    X, y = build_rand_feat()\n",
    "    y_flat = np.argmax(y, axis=1)\n",
    "    input_shape = (X.shape[1], X.shape[2])\n",
    "    model = get_recurrent_model()\n",
    "    \n",
    "\n",
    "class_weight = compute_class_weight('balanced', np.unique(y_flat), y_flat)\n",
    "\n",
    "checkpoint = ModelCheckpoint(config.model_path, monitor='val_acc', verbose=1, mode='max', save_best_only=True, save_weights_only=False, period=1)\n",
    "\n",
    "model.fit(X, y, epochs=10, batch_size=32, shuffle=True, validation_split=0.1, callbacks=[checkpoint])\n",
    "\n",
    "model.save(config.model_path)"
   ]
  },
  {
   "cell_type": "code",
   "execution_count": null,
   "metadata": {},
   "outputs": [],
   "source": []
  }
 ],
 "metadata": {
  "kernelspec": {
   "display_name": "Python 3",
   "language": "python",
   "name": "python3"
  },
  "language_info": {
   "codemirror_mode": {
    "name": "ipython",
    "version": 3
   },
   "file_extension": ".py",
   "mimetype": "text/x-python",
   "name": "python",
   "nbconvert_exporter": "python",
   "pygments_lexer": "ipython3",
   "version": "3.7.7"
  }
 },
 "nbformat": 4,
 "nbformat_minor": 4
}
